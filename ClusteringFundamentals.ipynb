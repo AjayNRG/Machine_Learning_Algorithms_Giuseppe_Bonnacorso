{
  "nbformat": 4,
  "nbformat_minor": 0,
  "metadata": {
    "colab": {
      "name": "ClusteringFundamentals.ipynb",
      "provenance": [],
      "collapsed_sections": [],
      "authorship_tag": "ABX9TyPs2/wHpbxBnTj/39hHxS+P",
      "include_colab_link": true
    },
    "kernelspec": {
      "name": "python3",
      "display_name": "Python 3"
    }
  },
  "cells": [
    {
      "cell_type": "markdown",
      "metadata": {
        "id": "view-in-github",
        "colab_type": "text"
      },
      "source": [
        "<a href=\"https://colab.research.google.com/github/AjayNRG/Machine_Learning_Algorithms_Giuseppe_Bonnacorso/blob/master/ClusteringFundamentals.ipynb\" target=\"_parent\"><img src=\"https://colab.research.google.com/assets/colab-badge.svg\" alt=\"Open In Colab\"/></a>"
      ]
    },
    {
      "cell_type": "markdown",
      "metadata": {
        "id": "3LgIYbUbklOF",
        "colab_type": "text"
      },
      "source": [
        "#Clustering Basics"
      ]
    },
    {
      "cell_type": "markdown",
      "metadata": {
        "id": "jsqStp-qhY5J",
        "colab_type": "text"
      },
      "source": [
        "#A. K means"
      ]
    },
    {
      "cell_type": "code",
      "metadata": {
        "id": "33b_j-MLSnTa",
        "colab_type": "code",
        "colab": {}
      },
      "source": [
        "from sklearn.datasets import make_blobs\n",
        "nb_samples = 1000\n",
        "X, _ = make_blobs(n_samples=nb_samples, n_features=2, centers=3,\n",
        "cluster_std=1.5)"
      ],
      "execution_count": 0,
      "outputs": []
    },
    {
      "cell_type": "code",
      "metadata": {
        "id": "yHmdA1vzhi7Y",
        "colab_type": "code",
        "colab": {
          "base_uri": "https://localhost:8080/",
          "height": 70
        },
        "outputId": "e7aa05a9-06ff-4c29-c4f5-308666c56a43"
      },
      "source": [
        "from sklearn.cluster import KMeans\n",
        "\n",
        "km = KMeans(n_clusters=3)\n",
        "km.fit(X)"
      ],
      "execution_count": 2,
      "outputs": [
        {
          "output_type": "execute_result",
          "data": {
            "text/plain": [
              "KMeans(algorithm='auto', copy_x=True, init='k-means++', max_iter=300,\n",
              "       n_clusters=3, n_init=10, n_jobs=None, precompute_distances='auto',\n",
              "       random_state=None, tol=0.0001, verbose=0)"
            ]
          },
          "metadata": {
            "tags": []
          },
          "execution_count": 2
        }
      ]
    },
    {
      "cell_type": "code",
      "metadata": {
        "id": "QhMWhKFehwqo",
        "colab_type": "code",
        "colab": {
          "base_uri": "https://localhost:8080/",
          "height": 70
        },
        "outputId": "e0cee512-aa66-431a-97fc-e9b5edc8a335"
      },
      "source": [
        "print(km.cluster_centers_)"
      ],
      "execution_count": 3,
      "outputs": [
        {
          "output_type": "stream",
          "text": [
            "[[-1.34771499 -7.03948581]\n",
            " [ 6.89624861  1.76430318]\n",
            " [ 2.8894315   0.50068243]]\n"
          ],
          "name": "stdout"
        }
      ]
    },
    {
      "cell_type": "code",
      "metadata": {
        "id": "ZYa5-7efh6N9",
        "colab_type": "code",
        "colab": {}
      },
      "source": [
        "from sklearn.datasets import make_circles\n",
        "\n",
        "nb_samples = 1000\n",
        "X, Y = make_circles(n_samples=nb_samples, noise=0.05)"
      ],
      "execution_count": 0,
      "outputs": []
    },
    {
      "cell_type": "code",
      "metadata": {
        "id": "9mZcewj9h6PW",
        "colab_type": "code",
        "colab": {
          "base_uri": "https://localhost:8080/",
          "height": 70
        },
        "outputId": "fb8151e5-ccf0-43a5-96d5-c7ca9e7da7d0"
      },
      "source": [
        "km = KMeans(n_clusters=2)\n",
        "km.fit(X)"
      ],
      "execution_count": 5,
      "outputs": [
        {
          "output_type": "execute_result",
          "data": {
            "text/plain": [
              "KMeans(algorithm='auto', copy_x=True, init='k-means++', max_iter=300,\n",
              "       n_clusters=2, n_init=10, n_jobs=None, precompute_distances='auto',\n",
              "       random_state=None, tol=0.0001, verbose=0)"
            ]
          },
          "metadata": {
            "tags": []
          },
          "execution_count": 5
        }
      ]
    },
    {
      "cell_type": "markdown",
      "metadata": {
        "id": "HQHZhCiBiKXE",
        "colab_type": "text"
      },
      "source": [
        "####Finding the optimal number of clusters"
      ]
    },
    {
      "cell_type": "markdown",
      "metadata": {
        "id": "XiIy8RFYiQvf",
        "colab_type": "text"
      },
      "source": [
        "######1.Optimizing the inertia"
      ]
    },
    {
      "cell_type": "code",
      "metadata": {
        "id": "uyxaoyCgiGIL",
        "colab_type": "code",
        "colab": {}
      },
      "source": [
        "nb_clusters = [2, 3, 5, 6, 7, 8, 9, 10]\n",
        "inertias = []\n",
        "\n",
        "for n in nb_clusters:\n",
        "  km = KMeans(n_clusters=n)\n",
        "  km.fit(X)\n",
        "  inertias.append(km.inertia_)"
      ],
      "execution_count": 0,
      "outputs": []
    },
    {
      "cell_type": "markdown",
      "metadata": {
        "id": "Av7bm2f5ilqF",
        "colab_type": "text"
      },
      "source": [
        "######2.Silhouette score"
      ]
    },
    {
      "cell_type": "code",
      "metadata": {
        "id": "VnyguGJ1iiTl",
        "colab_type": "code",
        "colab": {}
      },
      "source": [
        "from sklearn.metrics import silhouette_score\n",
        "nb_clusters = [2, 3, 5, 6, 7, 8, 9, 10]\n",
        "avg_silhouettes = []\n",
        "for n in nb_clusters:\n",
        "  km = KMeans(n_clusters=n)\n",
        "  Y = km.fit_predict(X)\n",
        "  avg_silhouettes.append(silhouette_score(X, Y))"
      ],
      "execution_count": 0,
      "outputs": []
    },
    {
      "cell_type": "markdown",
      "metadata": {
        "id": "x8Tm4P2yjkjy",
        "colab_type": "text"
      },
      "source": [
        "######3.Calinski-Harabasz index"
      ]
    },
    {
      "cell_type": "code",
      "metadata": {
        "id": "HiscEZ0Hi0mb",
        "colab_type": "code",
        "colab": {
          "base_uri": "https://localhost:8080/",
          "height": 318
        },
        "outputId": "9faa6a9d-a910-47ff-e0a7-10f1dd2bba58"
      },
      "source": [
        "from sklearn.metrics import calinski_harabaz_score\n",
        "nb_clusters = [2, 3, 5, 6, 7, 8, 9, 10]\n",
        "ch_scores = []\n",
        "km = KMeans(n_clusters=n)\n",
        "Y = km.fit_predict(X)\n",
        "for n in nb_clusters:\n",
        " km = KMeans(n_clusters=n)\n",
        " Y = km.fit_predict(X)\n",
        " ch_scores.append(calinski_harabaz_score(X, Y))"
      ],
      "execution_count": 8,
      "outputs": [
        {
          "output_type": "stream",
          "text": [
            "/usr/local/lib/python3.6/dist-packages/sklearn/utils/deprecation.py:87: FutureWarning: Function calinski_harabaz_score is deprecated; Function 'calinski_harabaz_score' has been renamed to 'calinski_harabasz_score' and will be removed in version 0.23.\n",
            "  warnings.warn(msg, category=FutureWarning)\n",
            "/usr/local/lib/python3.6/dist-packages/sklearn/utils/deprecation.py:87: FutureWarning: Function calinski_harabaz_score is deprecated; Function 'calinski_harabaz_score' has been renamed to 'calinski_harabasz_score' and will be removed in version 0.23.\n",
            "  warnings.warn(msg, category=FutureWarning)\n",
            "/usr/local/lib/python3.6/dist-packages/sklearn/utils/deprecation.py:87: FutureWarning: Function calinski_harabaz_score is deprecated; Function 'calinski_harabaz_score' has been renamed to 'calinski_harabasz_score' and will be removed in version 0.23.\n",
            "  warnings.warn(msg, category=FutureWarning)\n",
            "/usr/local/lib/python3.6/dist-packages/sklearn/utils/deprecation.py:87: FutureWarning: Function calinski_harabaz_score is deprecated; Function 'calinski_harabaz_score' has been renamed to 'calinski_harabasz_score' and will be removed in version 0.23.\n",
            "  warnings.warn(msg, category=FutureWarning)\n",
            "/usr/local/lib/python3.6/dist-packages/sklearn/utils/deprecation.py:87: FutureWarning: Function calinski_harabaz_score is deprecated; Function 'calinski_harabaz_score' has been renamed to 'calinski_harabasz_score' and will be removed in version 0.23.\n",
            "  warnings.warn(msg, category=FutureWarning)\n",
            "/usr/local/lib/python3.6/dist-packages/sklearn/utils/deprecation.py:87: FutureWarning: Function calinski_harabaz_score is deprecated; Function 'calinski_harabaz_score' has been renamed to 'calinski_harabasz_score' and will be removed in version 0.23.\n",
            "  warnings.warn(msg, category=FutureWarning)\n",
            "/usr/local/lib/python3.6/dist-packages/sklearn/utils/deprecation.py:87: FutureWarning: Function calinski_harabaz_score is deprecated; Function 'calinski_harabaz_score' has been renamed to 'calinski_harabasz_score' and will be removed in version 0.23.\n",
            "  warnings.warn(msg, category=FutureWarning)\n",
            "/usr/local/lib/python3.6/dist-packages/sklearn/utils/deprecation.py:87: FutureWarning: Function calinski_harabaz_score is deprecated; Function 'calinski_harabaz_score' has been renamed to 'calinski_harabasz_score' and will be removed in version 0.23.\n",
            "  warnings.warn(msg, category=FutureWarning)\n"
          ],
          "name": "stderr"
        }
      ]
    },
    {
      "cell_type": "markdown",
      "metadata": {
        "id": "QTmzokPYkB_z",
        "colab_type": "text"
      },
      "source": [
        "######4. Cluster instability"
      ]
    },
    {
      "cell_type": "code",
      "metadata": {
        "id": "FFjCIDuxjw9-",
        "colab_type": "code",
        "colab": {}
      },
      "source": [
        "import numpy as np\n",
        "nb_noisy_datasets = 4\n",
        "X_noise = []\n",
        "for _ in range(nb_noisy_datasets):\n",
        "  Xn = np.ndarray(shape=(1000, 2))\n",
        "  for i, x in enumerate(X):\n",
        "    if np.random.uniform(0, 1) < 0.25:\n",
        "      Xn[i] = X[i] + np.random.uniform(-2.0, 2.0)\n",
        "    else:\n",
        "      Xn[i] = X[i]\n",
        "  X_noise.append(Xn)"
      ],
      "execution_count": 0,
      "outputs": []
    },
    {
      "cell_type": "markdown",
      "metadata": {
        "id": "yDkDnSlxkqWb",
        "colab_type": "text"
      },
      "source": [
        "#B. DBSCAN"
      ]
    },
    {
      "cell_type": "code",
      "metadata": {
        "id": "zHCaAaxJkSty",
        "colab_type": "code",
        "colab": {}
      },
      "source": [
        "from sklearn.datasets import make_moons\n",
        ">>> nb_samples = 1000\n",
        ">>> X, Y = make_moons(n_samples=nb_samples, noise=0.05)"
      ],
      "execution_count": 0,
      "outputs": []
    },
    {
      "cell_type": "code",
      "metadata": {
        "id": "xjSTdJAqkubY",
        "colab_type": "code",
        "colab": {}
      },
      "source": [
        "from sklearn.cluster import DBSCAN\n",
        ">>> dbs = DBSCAN(eps=0.1)\n",
        ">>> Y = dbs.fit_predict(X)"
      ],
      "execution_count": 0,
      "outputs": []
    },
    {
      "cell_type": "markdown",
      "metadata": {
        "id": "Cp2opSrWk1nm",
        "colab_type": "text"
      },
      "source": [
        "#C. Spectral clustering"
      ]
    },
    {
      "cell_type": "code",
      "metadata": {
        "id": "0lIsFFdrkxbS",
        "colab_type": "code",
        "colab": {}
      },
      "source": [
        "from sklearn.cluster import SpectralClustering\n",
        ">>> Yss = []\n",
        ">>> gammas = np.linspace(0, 12, 4)\n",
        "\n",
        "for gamma in gammas:\n",
        "  sc = SpectralClustering(n_clusters=2, affinity='rbf', gamma=gamma)\n",
        "  Yss.append(sc.fit_predict(X))"
      ],
      "execution_count": 0,
      "outputs": []
    },
    {
      "cell_type": "code",
      "metadata": {
        "id": "plT1s2--lAxw",
        "colab_type": "code",
        "colab": {
          "base_uri": "https://localhost:8080/",
          "height": 72
        },
        "outputId": "c776de32-7b11-40c8-a5e7-11c93016cfe7"
      },
      "source": [
        "sc = SpectralClustering(n_clusters=2, affinity='nearest_neighbors')\n",
        "Ys = sc.fit_predict(X)"
      ],
      "execution_count": 14,
      "outputs": [
        {
          "output_type": "stream",
          "text": [
            "/usr/local/lib/python3.6/dist-packages/sklearn/manifold/_spectral_embedding.py:236: UserWarning: Graph is not fully connected, spectral embedding may not work as expected.\n",
            "  warnings.warn(\"Graph is not fully connected, spectral embedding\"\n"
          ],
          "name": "stderr"
        }
      ]
    },
    {
      "cell_type": "markdown",
      "metadata": {
        "id": "pUUTcoz2mU4o",
        "colab_type": "text"
      },
      "source": [
        "#Evaluation methods based \n",
        "#on the ground truth"
      ]
    },
    {
      "cell_type": "markdown",
      "metadata": {
        "id": "b_fz7zwVmiKC",
        "colab_type": "text"
      },
      "source": [
        "#A. Homogeneity"
      ]
    },
    {
      "cell_type": "code",
      "metadata": {
        "id": "f_ahcLq3lFcr",
        "colab_type": "code",
        "colab": {
          "base_uri": "https://localhost:8080/",
          "height": 34
        },
        "outputId": "4ccb678c-1de3-43d8-bea1-cdee68af3438"
      },
      "source": [
        "from sklearn.metrics import homogeneity_score\n",
        "km = KMeans(n_clusters=4)\n",
        "Yp = km.fit_predict(X)\n",
        "print(homogeneity_score(Y, Yp))"
      ],
      "execution_count": 15,
      "outputs": [
        {
          "output_type": "stream",
          "text": [
            "0.5107459767162363\n"
          ],
          "name": "stdout"
        }
      ]
    },
    {
      "cell_type": "markdown",
      "metadata": {
        "id": "m8Tp3QOamxyx",
        "colab_type": "text"
      },
      "source": [
        "#B.Completeness"
      ]
    },
    {
      "cell_type": "code",
      "metadata": {
        "id": "ISM_-yHCmqnx",
        "colab_type": "code",
        "colab": {
          "base_uri": "https://localhost:8080/",
          "height": 34
        },
        "outputId": "22b94b8e-f72f-4271-da2c-86591cd2981c"
      },
      "source": [
        "from sklearn.metrics import completeness_score\n",
        "km = KMeans(n_clusters=4)\n",
        "Yp = km.fit_predict(X)\n",
        "print(completeness_score(Y, Yp))"
      ],
      "execution_count": 16,
      "outputs": [
        {
          "output_type": "stream",
          "text": [
            "0.26132922801915814\n"
          ],
          "name": "stdout"
        }
      ]
    },
    {
      "cell_type": "markdown",
      "metadata": {
        "id": "mYxajc_Sm6_X",
        "colab_type": "text"
      },
      "source": [
        "#C. Adjusted rand index"
      ]
    },
    {
      "cell_type": "code",
      "metadata": {
        "id": "plA4J5jJm3YT",
        "colab_type": "code",
        "colab": {
          "base_uri": "https://localhost:8080/",
          "height": 34
        },
        "outputId": "1a1c7bf4-075b-4285-f9e8-91b49ab9d0a9"
      },
      "source": [
        "from sklearn.metrics import adjusted_rand_score\n",
        "km = KMeans(n_clusters=4)\n",
        "Yp = km.fit_predict(X)\n",
        "print(adjusted_rand_score(Y, Yp))"
      ],
      "execution_count": 17,
      "outputs": [
        {
          "output_type": "stream",
          "text": [
            "0.24611425203592058\n"
          ],
          "name": "stdout"
        }
      ]
    }
  ]
}