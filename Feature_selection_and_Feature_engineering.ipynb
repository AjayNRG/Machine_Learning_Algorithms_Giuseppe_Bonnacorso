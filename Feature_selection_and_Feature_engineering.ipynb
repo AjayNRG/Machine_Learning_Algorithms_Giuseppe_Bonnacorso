{
  "nbformat": 4,
  "nbformat_minor": 0,
  "metadata": {
    "colab": {
      "name": "Feature_selection_and_Feature_engineering.ipynb",
      "provenance": [],
      "collapsed_sections": [],
      "authorship_tag": "ABX9TyO5e7ko/vNhdtgWmDnWylez",
      "include_colab_link": true
    },
    "kernelspec": {
      "name": "python3",
      "display_name": "Python 3"
    }
  },
  "cells": [
    {
      "cell_type": "markdown",
      "metadata": {
        "id": "view-in-github",
        "colab_type": "text"
      },
      "source": [
        "<a href=\"https://colab.research.google.com/github/AjayNRG/Machine_Learning_Algorithms_Giuseppe_Bonnacorso/blob/master/Feature_selection_and_Feature_engineering.ipynb\" target=\"_parent\"><img src=\"https://colab.research.google.com/assets/colab-badge.svg\" alt=\"Open In Colab\"/></a>"
      ]
    },
    {
      "cell_type": "code",
      "metadata": {
        "id": "6AvdxwU3k_6x",
        "colab_type": "code",
        "colab": {}
      },
      "source": [
        "import pandas as pd\n",
        "import numpy as np\n",
        "from sklearn.datasets import load_boston"
      ],
      "execution_count": 0,
      "outputs": []
    },
    {
      "cell_type": "code",
      "metadata": {
        "id": "XHphQ2RFmCGI",
        "colab_type": "code",
        "colab": {}
      },
      "source": [
        "boston = load_boston()"
      ],
      "execution_count": 0,
      "outputs": []
    },
    {
      "cell_type": "code",
      "metadata": {
        "id": "TrVXSun4mH6t",
        "colab_type": "code",
        "colab": {}
      },
      "source": [
        "X = boston.data\n",
        "Y = boston.target"
      ],
      "execution_count": 0,
      "outputs": []
    },
    {
      "cell_type": "code",
      "metadata": {
        "id": "MwpIzGe5mNM7",
        "colab_type": "code",
        "outputId": "c3da465d-782a-4caf-b1e7-2f85977bb651",
        "colab": {
          "base_uri": "https://localhost:8080/",
          "height": 52
        }
      },
      "source": [
        "print(X.shape)\n",
        "print(Y.shape)"
      ],
      "execution_count": 0,
      "outputs": [
        {
          "output_type": "stream",
          "text": [
            "(506, 13)\n",
            "(506,)\n"
          ],
          "name": "stdout"
        }
      ]
    },
    {
      "cell_type": "code",
      "metadata": {
        "id": "TjqtzfPOmSAp",
        "colab_type": "code",
        "colab": {}
      },
      "source": [
        "from sklearn.model_selection import train_test_split\n",
        "X_train, X_test, Y_train, Y_test = train_test_split(X, Y,\n",
        "test_size=0.25, random_state=1000)"
      ],
      "execution_count": 0,
      "outputs": []
    },
    {
      "cell_type": "markdown",
      "metadata": {
        "id": "4kfPLkJ8pEzs",
        "colab_type": "text"
      },
      "source": [
        "#A. Managing categorical data\n"
      ]
    },
    {
      "cell_type": "code",
      "metadata": {
        "id": "FhDGBT9Rm7vj",
        "colab_type": "code",
        "outputId": "94cebb5c-38fe-4a57-9001-90bec12284f8",
        "colab": {
          "base_uri": "https://localhost:8080/",
          "height": 34
        }
      },
      "source": [
        "X = np.random.uniform(0,1,size=(10,2))\n",
        "Y = np.random.choice(('Male','Female'),size=10)\n",
        "X[0]"
      ],
      "execution_count": 0,
      "outputs": [
        {
          "output_type": "execute_result",
          "data": {
            "text/plain": [
              "array([0.47039087, 0.95033027])"
            ]
          },
          "metadata": {
            "tags": []
          },
          "execution_count": 6
        }
      ]
    },
    {
      "cell_type": "code",
      "metadata": {
        "id": "vGLLpCLfo1R8",
        "colab_type": "code",
        "outputId": "7c529c4f-7921-4514-b450-1c3763de9630",
        "colab": {
          "base_uri": "https://localhost:8080/",
          "height": 34
        }
      },
      "source": [
        "Y[0]"
      ],
      "execution_count": 0,
      "outputs": [
        {
          "output_type": "execute_result",
          "data": {
            "text/plain": [
              "'Male'"
            ]
          },
          "metadata": {
            "tags": []
          },
          "execution_count": 7
        }
      ]
    },
    {
      "cell_type": "markdown",
      "metadata": {
        "id": "sSqw4mYUpSA_",
        "colab_type": "text"
      },
      "source": [
        "###1. LabelEncoder"
      ]
    },
    {
      "cell_type": "code",
      "metadata": {
        "id": "rDVbp1DJpQ1N",
        "colab_type": "code",
        "outputId": "ccf4ddbb-681a-4e8c-a4a3-b79e7202589e",
        "colab": {
          "base_uri": "https://localhost:8080/",
          "height": 34
        }
      },
      "source": [
        "from sklearn.preprocessing import LabelEncoder\n",
        "le  = LabelEncoder()\n",
        "yt = le.fit_transform(Y)\n",
        "print(yt)"
      ],
      "execution_count": 0,
      "outputs": [
        {
          "output_type": "stream",
          "text": [
            "[1 1 0 0 0 1 1 0 0 0]\n"
          ],
          "name": "stdout"
        }
      ]
    },
    {
      "cell_type": "code",
      "metadata": {
        "id": "zRKcgBGip-8J",
        "colab_type": "code",
        "outputId": "16a214fa-1afe-4a6a-eda3-8b72152d0b4a",
        "colab": {
          "base_uri": "https://localhost:8080/",
          "height": 34
        }
      },
      "source": [
        "le.classes_"
      ],
      "execution_count": 0,
      "outputs": [
        {
          "output_type": "execute_result",
          "data": {
            "text/plain": [
              "array(['Female', 'Male'], dtype='<U6')"
            ]
          },
          "metadata": {
            "tags": []
          },
          "execution_count": 9
        }
      ]
    },
    {
      "cell_type": "code",
      "metadata": {
        "id": "2OQGN067pnN7",
        "colab_type": "code",
        "outputId": "5490a0bc-9cac-45c9-8066-1ca77408a22c",
        "colab": {
          "base_uri": "https://localhost:8080/",
          "height": 34
        }
      },
      "source": [
        "output = [1, 0, 1, 1, 0, 0]\n",
        "decoded_output = [le.classes_[i] for i in output]\n",
        "decoded_output"
      ],
      "execution_count": 0,
      "outputs": [
        {
          "output_type": "execute_result",
          "data": {
            "text/plain": [
              "['Male', 'Female', 'Male', 'Male', 'Female', 'Female']"
            ]
          },
          "metadata": {
            "tags": []
          },
          "execution_count": 10
        }
      ]
    },
    {
      "cell_type": "markdown",
      "metadata": {
        "id": "t1Aj6T_Cqrgn",
        "colab_type": "text"
      },
      "source": [
        "###2. LabelBinarizer"
      ]
    },
    {
      "cell_type": "code",
      "metadata": {
        "id": "HEaQ6KNCpsDa",
        "colab_type": "code",
        "outputId": "b6054597-54b8-4895-c0c0-e812559e9867",
        "colab": {
          "base_uri": "https://localhost:8080/",
          "height": 193
        }
      },
      "source": [
        "from sklearn.preprocessing import LabelBinarizer\n",
        "lb = LabelBinarizer()\n",
        "Yb = lb.fit_transform(Y)\n",
        "Yb"
      ],
      "execution_count": 0,
      "outputs": [
        {
          "output_type": "execute_result",
          "data": {
            "text/plain": [
              "array([[1],\n",
              "       [1],\n",
              "       [0],\n",
              "       [0],\n",
              "       [0],\n",
              "       [1],\n",
              "       [1],\n",
              "       [0],\n",
              "       [0],\n",
              "       [0]])"
            ]
          },
          "metadata": {
            "tags": []
          },
          "execution_count": 11
        }
      ]
    },
    {
      "cell_type": "code",
      "metadata": {
        "id": "nC_q1-y2qzGw",
        "colab_type": "code",
        "outputId": "e463d5a9-e3bf-4683-d098-476b15e55e5b",
        "colab": {
          "base_uri": "https://localhost:8080/",
          "height": 52
        }
      },
      "source": [
        "lb.inverse_transform(Yb)"
      ],
      "execution_count": 0,
      "outputs": [
        {
          "output_type": "execute_result",
          "data": {
            "text/plain": [
              "array(['Male', 'Male', 'Female', 'Female', 'Female', 'Male', 'Male',\n",
              "       'Female', 'Female', 'Female'], dtype='<U6')"
            ]
          },
          "metadata": {
            "tags": []
          },
          "execution_count": 12
        }
      ]
    },
    {
      "cell_type": "markdown",
      "metadata": {
        "id": "ITqddoizrat9",
        "colab_type": "text"
      },
      "source": [
        "###3. DictVectorizer and FeatureHasher\n",
        "######scikit-learn offers the classes DictVectorizer and FeatureHasher; they both produce sparse matrices of real numbers that can be fed into any machine learning model.The latter has a limited memory consumption and adopts MurmurHash 3 "
      ]
    },
    {
      "cell_type": "markdown",
      "metadata": {
        "id": "c54VXG4DsOKA",
        "colab_type": "text"
      },
      "source": [
        "#B. Managing missing features"
      ]
    },
    {
      "cell_type": "code",
      "metadata": {
        "id": "Pd_Ouc9aq7T0",
        "colab_type": "code",
        "outputId": "41b57157-4f77-452b-f8be-20cdf94010af",
        "colab": {
          "base_uri": "https://localhost:8080/",
          "height": 70
        }
      },
      "source": [
        "from sklearn.impute import SimpleImputer\n",
        "\n",
        "data = np.array([[1, np.nan, 2], [2, 3, np.nan], [-1, 4, 2]])\n",
        "print(data)"
      ],
      "execution_count": 0,
      "outputs": [
        {
          "output_type": "stream",
          "text": [
            "[[ 1. nan  2.]\n",
            " [ 2.  3. nan]\n",
            " [-1.  4.  2.]]\n"
          ],
          "name": "stdout"
        }
      ]
    },
    {
      "cell_type": "code",
      "metadata": {
        "id": "AirEZyYPrDkw",
        "colab_type": "code",
        "outputId": "d5137165-d60c-476e-a01b-e3ce8cfb4356",
        "colab": {
          "base_uri": "https://localhost:8080/",
          "height": 70
        }
      },
      "source": [
        "imp = SimpleImputer(strategy='mean')\n",
        "imp.fit_transform(data)"
      ],
      "execution_count": 0,
      "outputs": [
        {
          "output_type": "execute_result",
          "data": {
            "text/plain": [
              "array([[ 1. ,  3.5,  2. ],\n",
              "       [ 2. ,  3. ,  2. ],\n",
              "       [-1. ,  4. ,  2. ]])"
            ]
          },
          "metadata": {
            "tags": []
          },
          "execution_count": 14
        }
      ]
    },
    {
      "cell_type": "code",
      "metadata": {
        "id": "xHXkaGvfrL1g",
        "colab_type": "code",
        "outputId": "809efbba-d731-4c5a-abc5-b4c0b7ff3901",
        "colab": {
          "base_uri": "https://localhost:8080/",
          "height": 70
        }
      },
      "source": [
        "imp = SimpleImputer(strategy='median')\n",
        "imp.fit_transform(data)"
      ],
      "execution_count": 0,
      "outputs": [
        {
          "output_type": "execute_result",
          "data": {
            "text/plain": [
              "array([[ 1. ,  3.5,  2. ],\n",
              "       [ 2. ,  3. ,  2. ],\n",
              "       [-1. ,  4. ,  2. ]])"
            ]
          },
          "metadata": {
            "tags": []
          },
          "execution_count": 15
        }
      ]
    },
    {
      "cell_type": "code",
      "metadata": {
        "id": "vRqGOsXnrVTM",
        "colab_type": "code",
        "outputId": "cb70d9bd-c12e-470f-fdc1-06341f18f138",
        "colab": {
          "base_uri": "https://localhost:8080/",
          "height": 70
        }
      },
      "source": [
        "imp = SimpleImputer(strategy='most_frequent')\n",
        "imp.fit_transform(data)"
      ],
      "execution_count": 0,
      "outputs": [
        {
          "output_type": "execute_result",
          "data": {
            "text/plain": [
              "array([[ 1.,  3.,  2.],\n",
              "       [ 2.,  3.,  2.],\n",
              "       [-1.,  4.,  2.]])"
            ]
          },
          "metadata": {
            "tags": []
          },
          "execution_count": 16
        }
      ]
    },
    {
      "cell_type": "markdown",
      "metadata": {
        "id": "aHcmon-Vre-h",
        "colab_type": "text"
      },
      "source": [
        "#C. Data scaling and normalization"
      ]
    },
    {
      "cell_type": "markdown",
      "metadata": {
        "id": "8coIL--FsT1q",
        "colab_type": "text"
      },
      "source": [
        "####1. StandardScaler"
      ]
    },
    {
      "cell_type": "code",
      "metadata": {
        "id": "c5_ct61jrZK3",
        "colab_type": "code",
        "outputId": "a49c379a-cdb5-4b14-e24c-cda93e5a4449",
        "colab": {
          "base_uri": "https://localhost:8080/",
          "height": 70
        }
      },
      "source": [
        "from sklearn.preprocessing import StandardScaler\n",
        "ss = StandardScaler()\n",
        "scaled_data = ss.fit_transform(data)\n",
        "scaled_data"
      ],
      "execution_count": 0,
      "outputs": [
        {
          "output_type": "execute_result",
          "data": {
            "text/plain": [
              "array([[ 0.26726124,         nan,  0.        ],\n",
              "       [ 1.06904497, -1.        ,         nan],\n",
              "       [-1.33630621,  1.        ,  0.        ]])"
            ]
          },
          "metadata": {
            "tags": []
          },
          "execution_count": 17
        }
      ]
    },
    {
      "cell_type": "markdown",
      "metadata": {
        "id": "L68ouJVHspju",
        "colab_type": "text"
      },
      "source": [
        "#### 2.RobustScaler"
      ]
    },
    {
      "cell_type": "code",
      "metadata": {
        "id": "SB64xOWnslU5",
        "colab_type": "code",
        "outputId": "9e7e71e7-c8e9-43f4-9f0a-197daed4e05a",
        "colab": {
          "base_uri": "https://localhost:8080/",
          "height": 70
        }
      },
      "source": [
        "from sklearn.preprocessing import RobustScaler\n",
        "rb1 = RobustScaler(quantile_range=(15,85))\n",
        "scaled_data1 = rb1.fit_transform(data)\n",
        "scaled_data1"
      ],
      "execution_count": 0,
      "outputs": [
        {
          "output_type": "execute_result",
          "data": {
            "text/plain": [
              "array([[ 0.        ,         nan,  0.        ],\n",
              "       [ 0.47619048, -0.71428571,         nan],\n",
              "       [-0.95238095,  0.71428571,  0.        ]])"
            ]
          },
          "metadata": {
            "tags": []
          },
          "execution_count": 18
        }
      ]
    },
    {
      "cell_type": "code",
      "metadata": {
        "id": "7uw37LJMsj4S",
        "colab_type": "code",
        "outputId": "45049702-7781-4630-ee71-72930b41c8b3",
        "colab": {
          "base_uri": "https://localhost:8080/",
          "height": 70
        }
      },
      "source": [
        "rb2 = RobustScaler(quantile_range=(25,75))\n",
        "scaled_data2 = rb1.fit_transform(data)\n",
        "scaled_data2"
      ],
      "execution_count": 0,
      "outputs": [
        {
          "output_type": "execute_result",
          "data": {
            "text/plain": [
              "array([[ 0.        ,         nan,  0.        ],\n",
              "       [ 0.47619048, -0.71428571,         nan],\n",
              "       [-0.95238095,  0.71428571,  0.        ]])"
            ]
          },
          "metadata": {
            "tags": []
          },
          "execution_count": 19
        }
      ]
    },
    {
      "cell_type": "code",
      "metadata": {
        "id": "zLylLw2atWkZ",
        "colab_type": "code",
        "outputId": "9b163a48-2f82-4158-c48d-711466d7b73e",
        "colab": {
          "base_uri": "https://localhost:8080/",
          "height": 70
        }
      },
      "source": [
        "rb2 = RobustScaler(quantile_range=(30, 60))\n",
        "scaled_data2 = rb2.fit_transform(data)\n",
        "scaled_data2"
      ],
      "execution_count": 0,
      "outputs": [
        {
          "output_type": "execute_result",
          "data": {
            "text/plain": [
              "array([[ 0.        ,         nan,  0.        ],\n",
              "       [ 1.        , -1.66666667,         nan],\n",
              "       [-2.        ,  1.66666667,  0.        ]])"
            ]
          },
          "metadata": {
            "tags": []
          },
          "execution_count": 20
        }
      ]
    },
    {
      "cell_type": "markdown",
      "metadata": {
        "id": "5-qchJLktuWL",
        "colab_type": "text"
      },
      "source": [
        "###### Other options include MinMaxScaler and MaxAbsScaler, which scale data by removing elements that don't belong to a given range (the former) or by Considering a maximum absolute value (the latter)."
      ]
    },
    {
      "cell_type": "markdown",
      "metadata": {
        "id": "nvPBwVgZt9Zu",
        "colab_type": "text"
      },
      "source": [
        "####3. Normalizer"
      ]
    },
    {
      "cell_type": "code",
      "metadata": {
        "id": "DNi-ad2ithWH",
        "colab_type": "code",
        "outputId": "46ea7689-83f8-4830-e9b1-a88a4787252b",
        "colab": {
          "base_uri": "https://localhost:8080/",
          "height": 34
        }
      },
      "source": [
        "from sklearn.preprocessing import Normalizer\n",
        "\n",
        "data = np.array([1.0, 2.0])\n",
        "\n",
        "n_max = Normalizer(norm='max')\n",
        "n_max.fit_transform(data.reshape(1, -1))"
      ],
      "execution_count": 0,
      "outputs": [
        {
          "output_type": "execute_result",
          "data": {
            "text/plain": [
              "array([[0.5, 1. ]])"
            ]
          },
          "metadata": {
            "tags": []
          },
          "execution_count": 21
        }
      ]
    },
    {
      "cell_type": "code",
      "metadata": {
        "id": "OHn6mo7SuKxw",
        "colab_type": "code",
        "outputId": "f5651bd0-00a5-44d4-9de6-816b6f7c2b5c",
        "colab": {
          "base_uri": "https://localhost:8080/",
          "height": 34
        }
      },
      "source": [
        "n_max = Normalizer(norm='l1') #L1- Norm\n",
        "n_max.fit_transform(data.reshape(1, -1))"
      ],
      "execution_count": 0,
      "outputs": [
        {
          "output_type": "execute_result",
          "data": {
            "text/plain": [
              "array([[0.33333333, 0.66666667]])"
            ]
          },
          "metadata": {
            "tags": []
          },
          "execution_count": 22
        }
      ]
    },
    {
      "cell_type": "code",
      "metadata": {
        "id": "-sCk9wPOuOeB",
        "colab_type": "code",
        "outputId": "960503a5-7dea-4b73-a8c9-45e1a73efb55",
        "colab": {
          "base_uri": "https://localhost:8080/",
          "height": 34
        }
      },
      "source": [
        "n_max = Normalizer(norm='l2') #L2- Norm\n",
        "n_max.fit_transform(data.reshape(1, -1))"
      ],
      "execution_count": 0,
      "outputs": [
        {
          "output_type": "execute_result",
          "data": {
            "text/plain": [
              "array([[0.4472136 , 0.89442719]])"
            ]
          },
          "metadata": {
            "tags": []
          },
          "execution_count": 23
        }
      ]
    },
    {
      "cell_type": "markdown",
      "metadata": {
        "id": "acvoHeTfvQlD",
        "colab_type": "text"
      },
      "source": [
        "#D. Feature selection and filtering"
      ]
    },
    {
      "cell_type": "markdown",
      "metadata": {
        "id": "yjmKxN_2v4Ex",
        "colab_type": "text"
      },
      "source": [
        "#### 1. VarianceThreshold"
      ]
    },
    {
      "cell_type": "code",
      "metadata": {
        "id": "Gkp5DLb4ui2f",
        "colab_type": "code",
        "outputId": "f4e10003-cc61-4246-f729-77dbf4f70b5a",
        "colab": {
          "base_uri": "https://localhost:8080/",
          "height": 70
        }
      },
      "source": [
        "from sklearn.feature_selection import VarianceThreshold\n",
        "\n",
        "Xx = [[0, 2, 0, 3], [0, 1, 4, 3], [0, 1, 1, 3]]\n",
        "vt = VarianceThreshold()\n",
        "Xx_vt = vt.fit_transform(Xx)\n",
        "Xx_vt"
      ],
      "execution_count": 0,
      "outputs": [
        {
          "output_type": "execute_result",
          "data": {
            "text/plain": [
              "array([[2, 0],\n",
              "       [1, 4],\n",
              "       [1, 1]])"
            ]
          },
          "metadata": {
            "tags": []
          },
          "execution_count": 24
        }
      ]
    },
    {
      "cell_type": "code",
      "metadata": {
        "id": "3OAx-cQrwI0M",
        "colab_type": "code",
        "outputId": "f0368662-8337-4622-80cd-78ead2d3c89d",
        "colab": {
          "base_uri": "https://localhost:8080/",
          "height": 70
        }
      },
      "source": [
        "vt = VarianceThreshold(threshold=1)\n",
        "Xx_vt = vt.fit_transform(Xx)\n",
        "Xx_vt"
      ],
      "execution_count": 0,
      "outputs": [
        {
          "output_type": "execute_result",
          "data": {
            "text/plain": [
              "array([[0],\n",
              "       [4],\n",
              "       [1]])"
            ]
          },
          "metadata": {
            "tags": []
          },
          "execution_count": 25
        }
      ]
    },
    {
      "cell_type": "markdown",
      "metadata": {
        "id": "B6yTp1kKxtqd",
        "colab_type": "text"
      },
      "source": [
        "####2. SelectKBest and SelectPercentile"
      ]
    },
    {
      "cell_type": "markdown",
      "metadata": {
        "id": "GZR9DPMWxoFw",
        "colab_type": "text"
      },
      "source": [
        "###### Two examples of feature selection that use the classes SelectKBest (which selects the best K high-score features) and SelectPercentile (which selects only a subset of features belonging to a certain percentile) are shown next. "
      ]
    },
    {
      "cell_type": "code",
      "metadata": {
        "id": "mXv3K6pYxaNe",
        "colab_type": "code",
        "colab": {}
      },
      "source": [
        "from sklearn.datasets import load_boston, load_iris\n",
        "from sklearn.feature_selection import SelectKBest, SelectPercentile, chi2, f_regression"
      ],
      "execution_count": 0,
      "outputs": []
    },
    {
      "cell_type": "code",
      "metadata": {
        "id": "WqcO8l13yG7G",
        "colab_type": "code",
        "outputId": "d5dcfe51-7e75-45ef-f942-90b8b7d9abd9",
        "colab": {
          "base_uri": "https://localhost:8080/",
          "height": 34
        }
      },
      "source": [
        "regr_data = load_boston()\n",
        "regr_data.data.shape"
      ],
      "execution_count": 0,
      "outputs": [
        {
          "output_type": "execute_result",
          "data": {
            "text/plain": [
              "(506, 13)"
            ]
          },
          "metadata": {
            "tags": []
          },
          "execution_count": 27
        }
      ]
    },
    {
      "cell_type": "code",
      "metadata": {
        "id": "OYacyhicyRMV",
        "colab_type": "code",
        "outputId": "9a010eb7-1a7b-44c6-d949-41422dd88fde",
        "colab": {
          "base_uri": "https://localhost:8080/",
          "height": 34
        }
      },
      "source": [
        "kb_regr = SelectKBest(f_regression)\n",
        "X_b = kb_regr.fit_transform(regr_data.data, regr_data.target)\n",
        "X_b.shape"
      ],
      "execution_count": 0,
      "outputs": [
        {
          "output_type": "execute_result",
          "data": {
            "text/plain": [
              "(506, 10)"
            ]
          },
          "metadata": {
            "tags": []
          },
          "execution_count": 28
        }
      ]
    },
    {
      "cell_type": "code",
      "metadata": {
        "id": "PEpHbJuuyqD6",
        "colab_type": "code",
        "outputId": "64536aa1-c1e0-4b9e-cbb0-21716214de36",
        "colab": {
          "base_uri": "https://localhost:8080/",
          "height": 87
        }
      },
      "source": [
        "kb_regr.scores_"
      ],
      "execution_count": 0,
      "outputs": [
        {
          "output_type": "execute_result",
          "data": {
            "text/plain": [
              "array([ 89.48611476,  75.2576423 , 153.95488314,  15.97151242,\n",
              "       112.59148028, 471.84673988,  83.47745922,  33.57957033,\n",
              "        85.91427767, 141.76135658, 175.10554288,  63.05422911,\n",
              "       601.61787111])"
            ]
          },
          "metadata": {
            "tags": []
          },
          "execution_count": 29
        }
      ]
    },
    {
      "cell_type": "code",
      "metadata": {
        "id": "g7EQhP_syt4c",
        "colab_type": "code",
        "outputId": "f29b5143-55dd-4ecc-b1c2-1668e55d6422",
        "colab": {
          "base_uri": "https://localhost:8080/",
          "height": 34
        }
      },
      "source": [
        "class_data = load_iris()\n",
        "class_data.data.shape"
      ],
      "execution_count": 0,
      "outputs": [
        {
          "output_type": "execute_result",
          "data": {
            "text/plain": [
              "(150, 4)"
            ]
          },
          "metadata": {
            "tags": []
          },
          "execution_count": 30
        }
      ]
    },
    {
      "cell_type": "code",
      "metadata": {
        "id": "brY0KbhMy_SA",
        "colab_type": "code",
        "outputId": "1c92fc90-df6c-46f0-fdf4-15c585b55534",
        "colab": {
          "base_uri": "https://localhost:8080/",
          "height": 34
        }
      },
      "source": [
        "perc_class = SelectPercentile(chi2,percentile=15)\n",
        "X_p = perc_class.fit_transform(class_data.data, class_data.target)\n",
        "X_p.shape"
      ],
      "execution_count": 0,
      "outputs": [
        {
          "output_type": "execute_result",
          "data": {
            "text/plain": [
              "(150, 1)"
            ]
          },
          "metadata": {
            "tags": []
          },
          "execution_count": 31
        }
      ]
    },
    {
      "cell_type": "code",
      "metadata": {
        "id": "usfcE6MBzWi7",
        "colab_type": "code",
        "outputId": "3189a0a9-253a-4ccf-c935-7f969cad12e3",
        "colab": {
          "base_uri": "https://localhost:8080/",
          "height": 34
        }
      },
      "source": [
        "perc_class.scores_"
      ],
      "execution_count": 0,
      "outputs": [
        {
          "output_type": "execute_result",
          "data": {
            "text/plain": [
              "array([ 10.81782088,   3.7107283 , 116.31261309,  67.0483602 ])"
            ]
          },
          "metadata": {
            "tags": []
          },
          "execution_count": 32
        }
      ]
    },
    {
      "cell_type": "markdown",
      "metadata": {
        "id": "Rg7qNV5bKScj",
        "colab_type": "text"
      },
      "source": [
        "#E. Principal component analysis"
      ]
    },
    {
      "cell_type": "markdown",
      "metadata": {
        "id": "cOe9KZmRQoMJ",
        "colab_type": "text"
      },
      "source": [
        "####1. PCA"
      ]
    },
    {
      "cell_type": "code",
      "metadata": {
        "id": "siR5KiqpKg9J",
        "colab_type": "code",
        "colab": {}
      },
      "source": [
        "from sklearn.datasets import load_digits\n",
        "from sklearn.decomposition import PCA\n",
        "\n",
        "digits = load_digits()"
      ],
      "execution_count": 0,
      "outputs": []
    },
    {
      "cell_type": "code",
      "metadata": {
        "id": "FCU399wWLyB_",
        "colab_type": "code",
        "colab": {
          "base_uri": "https://localhost:8080/",
          "height": 34
        },
        "outputId": "58d2e73f-f530-46cc-a944-3777bcb93d5b"
      },
      "source": [
        "digits.data.shape"
      ],
      "execution_count": 35,
      "outputs": [
        {
          "output_type": "execute_result",
          "data": {
            "text/plain": [
              "(1797, 64)"
            ]
          },
          "metadata": {
            "tags": []
          },
          "execution_count": 35
        }
      ]
    },
    {
      "cell_type": "markdown",
      "metadata": {
        "id": "yXQeOanxMtck",
        "colab_type": "text"
      },
      "source": [
        "######Each image is a vector of 64 unsigned int (8 bit) numbers (0, 255), so the initial number of components is indeed 64. However, the total amount of black pixels is often predominant and the basic signs needed to write 10 digits are similar, so it's reasonable to assume both high cross-correlation and a low variance on several components. Trying with 36 principal components"
      ]
    },
    {
      "cell_type": "code",
      "metadata": {
        "id": "mbx-GuiQL3-1",
        "colab_type": "code",
        "colab": {}
      },
      "source": [
        "pca = PCA(n_components=36, whiten=True)\n",
        "x_pca = pca.fit_transform(digits.data / 255)"
      ],
      "execution_count": 0,
      "outputs": []
    },
    {
      "cell_type": "code",
      "metadata": {
        "id": "TNM8Kja3NCy4",
        "colab_type": "code",
        "colab": {
          "base_uri": "https://localhost:8080/",
          "height": 34
        },
        "outputId": "4d7323d7-a807-465d-bc38-b08b84da5cda"
      },
      "source": [
        "x_pca.shape"
      ],
      "execution_count": 38,
      "outputs": [
        {
          "output_type": "execute_result",
          "data": {
            "text/plain": [
              "(1797, 36)"
            ]
          },
          "metadata": {
            "tags": []
          },
          "execution_count": 38
        }
      ]
    },
    {
      "cell_type": "code",
      "metadata": {
        "id": "eSsUmGsTNIef",
        "colab_type": "code",
        "colab": {
          "base_uri": "https://localhost:8080/",
          "height": 158
        },
        "outputId": "f80a5f46-3ad3-4cf3-e3a4-bd9463c94372"
      },
      "source": [
        "pca.explained_variance_ratio_"
      ],
      "execution_count": 44,
      "outputs": [
        {
          "output_type": "execute_result",
          "data": {
            "text/plain": [
              "array([0.14890594, 0.13618771, 0.11794594, 0.08409979, 0.05782415,\n",
              "       0.0491691 , 0.04315987, 0.03661373, 0.03353248, 0.03078806,\n",
              "       0.02372341, 0.02272697, 0.01821863, 0.01773855, 0.01467101,\n",
              "       0.01409716, 0.01318589, 0.01248138, 0.01017718, 0.00905617,\n",
              "       0.00889538, 0.00797123, 0.00767493, 0.00722904, 0.00695889,\n",
              "       0.00596081, 0.00575615, 0.00515158, 0.0048954 , 0.00428888,\n",
              "       0.00373606, 0.00353273, 0.00336683, 0.0032803 , 0.00308312,\n",
              "       0.00293777])"
            ]
          },
          "metadata": {
            "tags": []
          },
          "execution_count": 44
        }
      ]
    },
    {
      "cell_type": "code",
      "metadata": {
        "id": "LPa4Ic7fNXtX",
        "colab_type": "code",
        "colab": {}
      },
      "source": [
        "X_rebuilt = pca.inverse_transform(x_pca)"
      ],
      "execution_count": 0,
      "outputs": []
    },
    {
      "cell_type": "markdown",
      "metadata": {
        "id": "FTnrUzF3OTK8",
        "colab_type": "text"
      },
      "source": [
        "####2. Non-negative matrix factorization"
      ]
    },
    {
      "cell_type": "markdown",
      "metadata": {
        "id": "woXlQaP4OX9R",
        "colab_type": "text"
      },
      "source": [
        "###### When the dataset is made up of non-negative elements, it's possible to use non-negative matrix factorization (NNMF) instead of standard PCA. The algorithm optimizes a loss function (alternatively on W and H) based on the Frobenius norm"
      ]
    },
    {
      "cell_type": "code",
      "metadata": {
        "id": "HUurE0rYNOJi",
        "colab_type": "code",
        "colab": {
          "base_uri": "https://localhost:8080/",
          "height": 34
        },
        "outputId": "25d4ca84-a60e-495d-80d5-291e7b05c024"
      },
      "source": [
        "from sklearn.datasets import load_iris\n",
        "from sklearn.decomposition import NMF\n",
        "\n",
        "iris = load_iris()\n",
        "iris.data.shape"
      ],
      "execution_count": 47,
      "outputs": [
        {
          "output_type": "execute_result",
          "data": {
            "text/plain": [
              "(150, 4)"
            ]
          },
          "metadata": {
            "tags": []
          },
          "execution_count": 47
        }
      ]
    },
    {
      "cell_type": "code",
      "metadata": {
        "id": "bLfKIlWKPBtM",
        "colab_type": "code",
        "colab": {}
      },
      "source": [
        "nmf =  NMF(n_components=3, init='random' ,l1_ratio=0.1)\n",
        "Xt = nmf.fit_transform(iris.data)"
      ],
      "execution_count": 0,
      "outputs": []
    },
    {
      "cell_type": "code",
      "metadata": {
        "id": "qS-L_4bCPaDj",
        "colab_type": "code",
        "colab": {
          "base_uri": "https://localhost:8080/",
          "height": 34
        },
        "outputId": "961fe1e6-16dd-4f35-dd00-1b0b813885a0"
      },
      "source": [
        "nmf.reconstruction_err_"
      ],
      "execution_count": 53,
      "outputs": [
        {
          "output_type": "execute_result",
          "data": {
            "text/plain": [
              "1.8857626377510346"
            ]
          },
          "metadata": {
            "tags": []
          },
          "execution_count": 53
        }
      ]
    },
    {
      "cell_type": "code",
      "metadata": {
        "id": "Oc_o2BnbP3Uv",
        "colab_type": "code",
        "colab": {
          "base_uri": "https://localhost:8080/",
          "height": 34
        },
        "outputId": "42043473-64b7-4546-ee15-34cc85c9455c"
      },
      "source": [
        "iris.data[0]"
      ],
      "execution_count": 54,
      "outputs": [
        {
          "output_type": "execute_result",
          "data": {
            "text/plain": [
              "array([5.1, 3.5, 1.4, 0.2])"
            ]
          },
          "metadata": {
            "tags": []
          },
          "execution_count": 54
        }
      ]
    },
    {
      "cell_type": "code",
      "metadata": {
        "id": "1af6XWreP5T-",
        "colab_type": "code",
        "colab": {
          "base_uri": "https://localhost:8080/",
          "height": 34
        },
        "outputId": "59ce4875-b669-4288-ae70-beaa8cc9971b"
      },
      "source": [
        "Xt[0]"
      ],
      "execution_count": 55,
      "outputs": [
        {
          "output_type": "execute_result",
          "data": {
            "text/plain": [
              "array([0.22249994, 1.56326316, 1.94918153])"
            ]
          },
          "metadata": {
            "tags": []
          },
          "execution_count": 55
        }
      ]
    },
    {
      "cell_type": "code",
      "metadata": {
        "id": "atjutQzkP7pe",
        "colab_type": "code",
        "colab": {
          "base_uri": "https://localhost:8080/",
          "height": 34
        },
        "outputId": "ca6f00a9-61fd-4efb-c59e-694db9a38253"
      },
      "source": [
        "nmf.inverse_transform(Xt[0])"
      ],
      "execution_count": 60,
      "outputs": [
        {
          "output_type": "execute_result",
          "data": {
            "text/plain": [
              "array([5.09911539, 3.50130596, 1.40116508, 0.19759821])"
            ]
          },
          "metadata": {
            "tags": []
          },
          "execution_count": 60
        }
      ]
    },
    {
      "cell_type": "markdown",
      "metadata": {
        "id": "1pAA9byNQcrn",
        "colab_type": "text"
      },
      "source": [
        "####3. Sparse PCA"
      ]
    },
    {
      "cell_type": "markdown",
      "metadata": {
        "id": "6eraeaySRXZC",
        "colab_type": "text"
      },
      "source": [
        "######The following snippet shows a sparse PCA with 60 components. In this context, they're usually called atoms and the amount of sparsity can be controlled via L1-norm regularization (higher alpha parameter values lead to more sparse results). This approach is very common in classification algorithms and will be discussed in the next chapters:"
      ]
    },
    {
      "cell_type": "code",
      "metadata": {
        "id": "r_h7aAQmQIfI",
        "colab_type": "code",
        "colab": {}
      },
      "source": [
        "from sklearn.decomposition import SparsePCA\n",
        "\n",
        "spca = SparsePCA(n_components = 60, alpha = 0.1)\n",
        "X_pca = spca.fit_transform(digits.data / 255)"
      ],
      "execution_count": 0,
      "outputs": []
    },
    {
      "cell_type": "code",
      "metadata": {
        "id": "UvsmY1JDRyZ5",
        "colab_type": "code",
        "colab": {
          "base_uri": "https://localhost:8080/",
          "height": 34
        },
        "outputId": "342a375e-7e83-4772-f4ab-fa7c6d587d62"
      },
      "source": [
        "spca.components_.shape"
      ],
      "execution_count": 63,
      "outputs": [
        {
          "output_type": "execute_result",
          "data": {
            "text/plain": [
              "(60, 64)"
            ]
          },
          "metadata": {
            "tags": []
          },
          "execution_count": 63
        }
      ]
    },
    {
      "cell_type": "markdown",
      "metadata": {
        "id": "MSOGvniTR72b",
        "colab_type": "text"
      },
      "source": [
        "####4. Kernel PCA"
      ]
    },
    {
      "cell_type": "markdown",
      "metadata": {
        "id": "l9gHw9xkSTQo",
        "colab_type": "text"
      },
      "source": [
        "####Let's consider a dataset made up of a circle with a blob inside:"
      ]
    },
    {
      "cell_type": "code",
      "metadata": {
        "id": "Mui1JOoRR22r",
        "colab_type": "code",
        "colab": {
          "base_uri": "https://localhost:8080/",
          "height": 52
        },
        "outputId": "b391b095-a985-47fa-d72a-83a8ac09843b"
      },
      "source": [
        "from sklearn.datasets import make_circles\n",
        "Xb, Yb = make_circles(n_samples=500, factor=0.1, noise=0.05)\n",
        "print(Xb.shape)\n",
        "print(Yb.shape)"
      ],
      "execution_count": 66,
      "outputs": [
        {
          "output_type": "stream",
          "text": [
            "(500, 2)\n",
            "(500,)\n"
          ],
          "name": "stdout"
        }
      ]
    },
    {
      "cell_type": "code",
      "metadata": {
        "id": "m4HBOcHJSjbR",
        "colab_type": "code",
        "colab": {}
      },
      "source": [
        "from sklearn.decomposition import KernelPCA"
      ],
      "execution_count": 0,
      "outputs": []
    },
    {
      "cell_type": "code",
      "metadata": {
        "id": "HtKxxNNGTOXK",
        "colab_type": "code",
        "colab": {}
      },
      "source": [
        "kpca = KernelPCA(n_components=2, kernel='rbf',fit_inverse_transform=True, gamma=1.0)\n",
        "X_kpca = kpca.fit_transform(Xb)"
      ],
      "execution_count": 0,
      "outputs": []
    },
    {
      "cell_type": "markdown",
      "metadata": {
        "id": "P2fR_1NvTnB3",
        "colab_type": "text"
      },
      "source": [
        "#F. Atom extraction and dictionary learning"
      ]
    },
    {
      "cell_type": "code",
      "metadata": {
        "id": "eCs-2841TXq2",
        "colab_type": "code",
        "colab": {}
      },
      "source": [
        "from sklearn.decomposition import DictionaryLearning\n",
        "dl = DictionaryLearning(n_components=36, fit_algorithm='lars',transform_algorithm='lasso_lars')\n",
        "X_dict = dl.fit_transform(digits.data)"
      ],
      "execution_count": 0,
      "outputs": []
    },
    {
      "cell_type": "code",
      "metadata": {
        "id": "dFzbhaB3ULUT",
        "colab_type": "code",
        "colab": {}
      },
      "source": [
        "X_dict[0]"
      ],
      "execution_count": 0,
      "outputs": []
    }
  ]
}