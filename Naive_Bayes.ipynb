{
  "nbformat": 4,
  "nbformat_minor": 0,
  "metadata": {
    "colab": {
      "name": "Naive Bayes.ipynb",
      "provenance": [],
      "authorship_tag": "ABX9TyOxRu80mJ76SFfE5csI7/Ux",
      "include_colab_link": true
    },
    "kernelspec": {
      "name": "python3",
      "display_name": "Python 3"
    }
  },
  "cells": [
    {
      "cell_type": "markdown",
      "metadata": {
        "id": "view-in-github",
        "colab_type": "text"
      },
      "source": [
        "<a href=\"https://colab.research.google.com/github/AjayNRG/Machine_Learning_Algorithms_Giuseppe_Bonnacorso/blob/master/Naive_Bayes.ipynb\" target=\"_parent\"><img src=\"https://colab.research.google.com/assets/colab-badge.svg\" alt=\"Open In Colab\"/></a>"
      ]
    },
    {
      "cell_type": "markdown",
      "metadata": {
        "id": "7ldza4bYRnvf",
        "colab_type": "text"
      },
      "source": [
        "#Naive Bayes in scikit-learn"
      ]
    },
    {
      "cell_type": "markdown",
      "metadata": {
        "id": "xfMq0m8JRseA",
        "colab_type": "text"
      },
      "source": [
        "####1. Bernoulli naive Bayes"
      ]
    },
    {
      "cell_type": "code",
      "metadata": {
        "id": "Rgb3bJinQpO_",
        "colab_type": "code",
        "colab": {}
      },
      "source": [
        "from sklearn.datasets import make_classification\n",
        "nb_samples = 300\n",
        "X, Y = make_classification(n_samples=nb_samples, n_features=2,n_informative=2,n_redundant=0)"
      ],
      "execution_count": 0,
      "outputs": []
    },
    {
      "cell_type": "code",
      "metadata": {
        "id": "yAU2P1D9SM5Z",
        "colab_type": "code",
        "colab": {}
      },
      "source": [
        "from sklearn.naive_bayes import BernoulliNB\n",
        "from sklearn.model_selection import train_test_split\n",
        "\n",
        "X_train, X_test, Y_train, Y_test = train_test_split(X, Y,test_size=0.25)"
      ],
      "execution_count": 0,
      "outputs": []
    },
    {
      "cell_type": "code",
      "metadata": {
        "id": "NtvEftu9SeY2",
        "colab_type": "code",
        "colab": {
          "base_uri": "https://localhost:8080/",
          "height": 34
        },
        "outputId": "d123f2ce-f3a5-40dd-abc4-d507f9369ece"
      },
      "source": [
        "bnb = BernoulliNB(binarize=0.0)\n",
        "bnb.fit(X_train,Y_train)\n",
        "bnb.score(X_test,Y_test)"
      ],
      "execution_count": 4,
      "outputs": [
        {
          "output_type": "execute_result",
          "data": {
            "text/plain": [
              "0.96"
            ]
          },
          "metadata": {
            "tags": []
          },
          "execution_count": 4
        }
      ]
    },
    {
      "cell_type": "code",
      "metadata": {
        "id": "XWV7lXhZSuQF",
        "colab_type": "code",
        "colab": {
          "base_uri": "https://localhost:8080/",
          "height": 34
        },
        "outputId": "6bbf665c-6bc2-415b-eeba-06ed25cbbd68"
      },
      "source": [
        "import numpy as np\n",
        "data = np.array([[0, 0], [0, 1], [1, 0], [1, 1]])\n",
        "bnb.predict(data)"
      ],
      "execution_count": 6,
      "outputs": [
        {
          "output_type": "execute_result",
          "data": {
            "text/plain": [
              "array([0, 1, 0, 1])"
            ]
          },
          "metadata": {
            "tags": []
          },
          "execution_count": 6
        }
      ]
    },
    {
      "cell_type": "markdown",
      "metadata": {
        "id": "K4LmouG5TyOu",
        "colab_type": "text"
      },
      "source": [
        "####2. Multinomial naive Bayes"
      ]
    },
    {
      "cell_type": "code",
      "metadata": {
        "id": "n8V_vamJTcRT",
        "colab_type": "code",
        "colab": {}
      },
      "source": [
        "from sklearn.feature_extraction import DictVectorizer\n",
        "\n",
        "data = [\n",
        "        {'house': 100, 'street': 50, 'shop': 25, 'car': 100, 'tree': 20},\n",
        "        {'house': 5, 'street': 5, 'shop': 0, 'car': 10, 'tree': 500, 'river': 1}\n",
        "]"
      ],
      "execution_count": 0,
      "outputs": []
    },
    {
      "cell_type": "code",
      "metadata": {
        "id": "m6G3rWD1UAft",
        "colab_type": "code",
        "colab": {
          "base_uri": "https://localhost:8080/",
          "height": 52
        },
        "outputId": "400e3f3f-dbb4-4116-b47f-c8f22d341d8a"
      },
      "source": [
        "dv = DictVectorizer(sparse=False)\n",
        "X = dv.fit_transform(data)\n",
        "Y = np.array([1,0])\n",
        "X"
      ],
      "execution_count": 8,
      "outputs": [
        {
          "output_type": "execute_result",
          "data": {
            "text/plain": [
              "array([[100., 100.,   0.,  25.,  50.,  20.],\n",
              "       [ 10.,   5.,   1.,   0.,   5., 500.]])"
            ]
          },
          "metadata": {
            "tags": []
          },
          "execution_count": 8
        }
      ]
    },
    {
      "cell_type": "code",
      "metadata": {
        "id": "WyljDfEcUZFE",
        "colab_type": "code",
        "colab": {
          "base_uri": "https://localhost:8080/",
          "height": 34
        },
        "outputId": "f6ee9a36-cfe7-4d4b-dba6-4b53b449188c"
      },
      "source": [
        "from sklearn.naive_bayes import MultinomialNB\n",
        "\n",
        "mnb = MultinomialNB()\n",
        "mnb.fit(X,Y)"
      ],
      "execution_count": 9,
      "outputs": [
        {
          "output_type": "execute_result",
          "data": {
            "text/plain": [
              "MultinomialNB(alpha=1.0, class_prior=None, fit_prior=True)"
            ]
          },
          "metadata": {
            "tags": []
          },
          "execution_count": 9
        }
      ]
    },
    {
      "cell_type": "code",
      "metadata": {
        "id": "i3ffXwR4Unbg",
        "colab_type": "code",
        "colab": {}
      },
      "source": [
        "test_data = data = [\n",
        "                    {'house': 80, 'street': 20, 'shop': 15, 'car': 70, 'tree': 10, 'river':1},\n",
        "                    {'house': 10, 'street': 5, 'shop': 1, 'car': 8, 'tree': 300, 'river': 0}\n",
        "]"
      ],
      "execution_count": 0,
      "outputs": []
    },
    {
      "cell_type": "code",
      "metadata": {
        "id": "aS-tjEXAUyxr",
        "colab_type": "code",
        "colab": {
          "base_uri": "https://localhost:8080/",
          "height": 34
        },
        "outputId": "bae79d80-4e62-49e5-936a-814cb7b90415"
      },
      "source": [
        "mnb.predict(dv.fit_transform(test_data))"
      ],
      "execution_count": 11,
      "outputs": [
        {
          "output_type": "execute_result",
          "data": {
            "text/plain": [
              "array([1, 0])"
            ]
          },
          "metadata": {
            "tags": []
          },
          "execution_count": 11
        }
      ]
    },
    {
      "cell_type": "markdown",
      "metadata": {
        "id": "p7kagxEkVFyc",
        "colab_type": "text"
      },
      "source": [
        "####3. Gaussian naive Bayes"
      ]
    },
    {
      "cell_type": "code",
      "metadata": {
        "id": "VTe7O_SDU6Tp",
        "colab_type": "code",
        "colab": {}
      },
      "source": [
        "from sklearn.datasets import make_classification\n",
        "\n",
        "nb_samples = 300\n",
        "X, Y = make_classification(n_samples=nb_samples, n_features=2,n_informative=2, n_redundant=0)"
      ],
      "execution_count": 0,
      "outputs": []
    },
    {
      "cell_type": "code",
      "metadata": {
        "id": "kNf-JK93VTkW",
        "colab_type": "code",
        "colab": {
          "base_uri": "https://localhost:8080/",
          "height": 105
        },
        "outputId": "4c85d03b-ca71-4306-dbd3-965f37028f5d"
      },
      "source": [
        "from sklearn.naive_bayes import GaussianNB\n",
        "from sklearn.linear_model import LogisticRegression\n",
        "from sklearn.metrics import roc_curve, auc\n",
        "from sklearn.model_selection import train_test_split\n",
        "\n",
        "X_train, X_test, Y_train, Y_test = train_test_split(X, Y,test_size=0.25)\n",
        "\n",
        "gnb = GaussianNB()\n",
        "gnb.fit(X_train, Y_train)\n",
        "Y_gnb_score = gnb.predict_proba(X_test)\n",
        "Y_gnb_score[:5]"
      ],
      "execution_count": 14,
      "outputs": [
        {
          "output_type": "execute_result",
          "data": {
            "text/plain": [
              "array([[9.48318692e-01, 5.16813076e-02],\n",
              "       [4.35880437e-14, 1.00000000e+00],\n",
              "       [7.29561493e-30, 1.00000000e+00],\n",
              "       [4.46103538e-15, 1.00000000e+00],\n",
              "       [2.27374008e-25, 1.00000000e+00]])"
            ]
          },
          "metadata": {
            "tags": []
          },
          "execution_count": 14
        }
      ]
    },
    {
      "cell_type": "code",
      "metadata": {
        "id": "NpBQKgDIVmZC",
        "colab_type": "code",
        "colab": {
          "base_uri": "https://localhost:8080/",
          "height": 34
        },
        "outputId": "9dd49ab9-b4ef-4fd4-cf0d-5498ec23e0ae"
      },
      "source": [
        "lr = LogisticRegression()\n",
        "lr.fit(X_train, Y_train)\n",
        "Y_lr_score = lr.decision_function(X_test)\n",
        "Y_lr_score[:5]"
      ],
      "execution_count": 18,
      "outputs": [
        {
          "output_type": "execute_result",
          "data": {
            "text/plain": [
              "array([-1.70247472,  5.76956566,  9.57536037,  5.61372063,  8.18717792])"
            ]
          },
          "metadata": {
            "tags": []
          },
          "execution_count": 18
        }
      ]
    },
    {
      "cell_type": "code",
      "metadata": {
        "id": "M8qjfoyQVzW7",
        "colab_type": "code",
        "colab": {}
      },
      "source": [
        "fpr_gnb, tpr_gnb, thresholds_gnb = roc_curve(Y_test, Y_gnb_score[:, 1])"
      ],
      "execution_count": 0,
      "outputs": []
    },
    {
      "cell_type": "code",
      "metadata": {
        "id": "mYSEUr78WOak",
        "colab_type": "code",
        "colab": {}
      },
      "source": [
        "fpr_lr, tpr_lr, thresholds_lr = roc_curve(Y_test, Y_lr_score)"
      ],
      "execution_count": 0,
      "outputs": []
    },
    {
      "cell_type": "code",
      "metadata": {
        "id": "NyrLKxYoWSPr",
        "colab_type": "code",
        "colab": {}
      },
      "source": [
        "from sklearn.datasets import load_digits\n",
        "from sklearn.model_selection import cross_val_score"
      ],
      "execution_count": 0,
      "outputs": []
    },
    {
      "cell_type": "code",
      "metadata": {
        "id": "AybNHGdnWaEv",
        "colab_type": "code",
        "colab": {}
      },
      "source": [
        "digits = load_digits()"
      ],
      "execution_count": 0,
      "outputs": []
    },
    {
      "cell_type": "code",
      "metadata": {
        "id": "qn204VZzWby7",
        "colab_type": "code",
        "colab": {}
      },
      "source": [
        "gnb = GaussianNB()\n",
        "mnb = MultinomialNB()"
      ],
      "execution_count": 0,
      "outputs": []
    },
    {
      "cell_type": "code",
      "metadata": {
        "id": "mxj2ZS5jWdvh",
        "colab_type": "code",
        "colab": {
          "base_uri": "https://localhost:8080/",
          "height": 34
        },
        "outputId": "d968da65-685d-48b4-c7e7-8f7480e41f0f"
      },
      "source": [
        "cross_val_score(gnb, digits.data, digits.target, scoring='accuracy',cv=10).mean()"
      ],
      "execution_count": 24,
      "outputs": [
        {
          "output_type": "execute_result",
          "data": {
            "text/plain": [
              "0.8113904407200497"
            ]
          },
          "metadata": {
            "tags": []
          },
          "execution_count": 24
        }
      ]
    },
    {
      "cell_type": "code",
      "metadata": {
        "id": "sdxae9sqWgsa",
        "colab_type": "code",
        "colab": {
          "base_uri": "https://localhost:8080/",
          "height": 34
        },
        "outputId": "4d205b81-79e2-4818-f258-9d7801d60723"
      },
      "source": [
        "cross_val_score(mnb, digits.data, digits.target, scoring='accuracy',cv=10).mean()"
      ],
      "execution_count": 25,
      "outputs": [
        {
          "output_type": "execute_result",
          "data": {
            "text/plain": [
              "0.8797858472998138"
            ]
          },
          "metadata": {
            "tags": []
          },
          "execution_count": 25
        }
      ]
    },
    {
      "cell_type": "code",
      "metadata": {
        "id": "cLkQ8jVCWkR_",
        "colab_type": "code",
        "colab": {}
      },
      "source": [
        ""
      ],
      "execution_count": 0,
      "outputs": []
    }
  ]
}